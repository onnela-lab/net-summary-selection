{
 "cells": [
  {
   "cell_type": "code",
   "execution_count": null,
   "id": "c050f2fc",
   "metadata": {},
   "outputs": [],
   "source": [
    "import matplotlib as mpl\n",
    "from matplotlib import pyplot as plt\n",
    "import pickle\n",
    "import numpy as np\n",
    "from tqdm.notebook import tqdm\n",
    "from cost_based_selection import preprocessing_utils\n",
    "from glob import glob\n",
    "from scipy import stats\n",
    "import itertools as it\n",
    "from IPython.display import display\n",
    "import pandas as pd\n",
    "import os\n",
    "\n",
    "mpl.rcParams['figure.dpi'] = 144\n",
    "mpl.style.use('../scrartcl.mplstyle')"
   ]
  },
  {
   "cell_type": "code",
   "execution_count": null,
   "id": "f47544f0",
   "metadata": {},
   "outputs": [],
   "source": [
    "costs_by_model = {}\n",
    "features_by_model = {}\n",
    "sizes = (1 + np.arange(10)) * 100\n",
    "seeds = range(5)\n",
    "for model, size, seed in tqdm(it.product([\"ba\", \"dmX\"], sizes, seeds)):\n",
    "    pattern = f\"../workspace/{model}/simulations/pilot/num_nodes-{size}/seed-{seed}/batch-*.pkl\"\n",
    "    simulations = preprocessing_utils.load_simulations(pattern)\n",
    "    features_by_model[model] = simulations[\"features\"]\n",
    "    costs_by_model.setdefault(model, []).append(simulations[\"costs\"])"
   ]
  },
  {
   "cell_type": "code",
   "execution_count": null,
   "id": "9d374532",
   "metadata": {},
   "outputs": [],
   "source": [
    "fig, ax = plt.subplots()\n",
    "\n",
    "zorder = 9\n",
    "for model, costs in costs_by_model.items():\n",
    "    costs = np.sum(costs, axis=-1).reshape((len(sizes), len(seeds)))\n",
    "    y = np.mean(costs, axis=-1)\n",
    "    yerr = np.std(costs, axis=-1) / np.sqrt(len(seeds) - 1)\n",
    "    poly = np.polynomial.Polynomial.fit(np.log(sizes), np.log(y), 1).convert()\n",
    "    \n",
    "    label = {'ba': 'Barabási Albert model', 'dmX': \"Duplication divergence models\"}[model]\n",
    "    ls = {'ba': '-', 'dmX': '--'}[model]\n",
    "    marker = {'ba': 'o', 'dmX': 's'}[model]\n",
    "    line, = ax.plot(sizes, y, label=fr\"{label} $\\propto n_s^{{{poly.coef[1]:.2f}}}$\", ls='none', \n",
    "                    marker=marker, zorder=zorder)\n",
    "    line.set_markeredgecolor('w')\n",
    "    line.set_markersize(7)\n",
    "    zorder -= 1\n",
    "    # ax.fill_between(sizes, y - yerr, y + yerr, color=line.get_color(), alpha=.25)\n",
    "    poly.coef[1]\n",
    "    ax.plot(sizes, np.exp(poly(np.log(sizes))), color=line.get_color(), ls='-', zorder=zorder - 1)\n",
    "    print(model, y[-1] / y[0], poly.coef[1])\n",
    "    \n",
    "ax.set_ylabel('Cost of summaries per\\nsimulation (seconds)')\n",
    "ax.set_xlabel('Number of nodes $n_s$')\n",
    "ax.legend()\n",
    "fig.tight_layout()\n",
    "fig.savefig(\"cost-scaling.pdf\")"
   ]
  },
  {
   "cell_type": "code",
   "execution_count": null,
   "id": "c2638669",
   "metadata": {
    "scrolled": false
   },
   "outputs": [],
   "source": [
    "# Show the cost by feature for each model.\n",
    "for model, costs in costs_by_model.items():\n",
    "    _, num_features = np.shape(costs)\n",
    "    costs = np.reshape(costs, (len(sizes), len(seeds), num_features))\n",
    "    costs = costs[-1].mean(axis=0) * 1_000\n",
    "    df = pd.DataFrame({\"feature\": features_by_model[model], \"cost\": costs})\n",
    "    print(model, df.cost.sum())\n",
    "    display(df)"
   ]
  }
 ],
 "metadata": {
  "interpreter": {
   "hash": "45089b2972295b92c5c89083dd4caa228f1fdbf8ca3ea8faf3109ba7ae28a84a"
  },
  "kernelspec": {
   "display_name": "Python 3 (ipykernel)",
   "language": "python",
   "name": "python3"
  },
  "language_info": {
   "codemirror_mode": {
    "name": "ipython",
    "version": 3
   },
   "file_extension": ".py",
   "mimetype": "text/x-python",
   "name": "python",
   "nbconvert_exporter": "python",
   "pygments_lexer": "ipython3",
   "version": "3.9.9"
  }
 },
 "nbformat": 4,
 "nbformat_minor": 5
}
